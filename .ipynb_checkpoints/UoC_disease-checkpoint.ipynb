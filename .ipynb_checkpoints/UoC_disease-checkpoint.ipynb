{
 "cells": [
  {
   "cell_type": "code",
   "execution_count": null,
   "id": "5f61c3b5",
   "metadata": {},
   "outputs": [],
   "source": [
    "import pymc as pm\n",
    "import matplotlib.pyplot as plt\n",
    "import numpy as np\n",
    "import scipy.stats as stats\n",
    "import arviz as az\n",
    "import pandas as pd"
   ]
  },
  {
   "cell_type": "markdown",
   "id": "4ea4dda5",
   "metadata": {},
   "source": [
    "# Bayes Theorem\n",
    "\n",
    "## 1. Discrete model's posteriors with PyMC\n",
    "\n",
    "Below you see a PyMC model that computes and shows the prior distribution of disease. In order compute the posterior of disease given positive blood test, you need to **observe** the `bloodTest` variable by changing the 4th line of the code below as follows\n",
    "\n",
    "~~~python\n",
    "    bloodTest = pm.Bernoulli('bloodTest', p = positiveProb, observed=1)\n",
    "~~~\n",
    "\n",
    "**Tasks**: Add `observed=1` to bloodTest and see how the probability of disease changes."
   ]
  },
  {
   "cell_type": "code",
   "execution_count": null,
   "id": "02119aac",
   "metadata": {},
   "outputs": [],
   "source": [
    "with pm.Model() as model:\n",
    "    disease = pm.Bernoulli('disease', p = 0.2)\n",
    "    positiveProb = pm.math.switch(disease, 0.7, 0.1)\n",
    "    bloodTest = pm.Bernoulli('bloodTest', p = positiveProb)\n",
    "    trace = pm.sample()\n",
    "pm.stats.summary(trace, kind=\"stats\", var_names=[\"disease\"]).round(2)"
   ]
  },
  {
   "cell_type": "markdown",
   "id": "b210fad7",
   "metadata": {},
   "source": [
    "## 2. Continuous model's posteriors with Grid Approximation\n",
    "\n",
    "$$\\begin{align} \\overbrace{D_i \\sim \\text{Bernoulli}(p)}^{\\text{likelihood}} \\\\\n",
    "\\overbrace{p \\sim \\text{Uniform}(0,1)}^{\\text{prior}} \\end{align}$$\n",
    "\n",
    "Below, we compute the posterior probability of $D$ when we observe 1 sick (disease) and 1 health (no disease) person using grid approximation. This code approximates the continuous distribution by using `n = 5` discrete points. \n",
    "\n",
    "**Tasks**\n",
    "\n",
    "1. Use `n=50` discrete points to make a finer grid approximation\n",
    "2. Compute the posterior given 2 sick (disease) and 7 healthy (no disease) people\n",
    "> Hint: you need to change the numbers in `... ** 1` and `... ** 1` in the likelihood line."
   ]
  },
  {
   "cell_type": "code",
   "execution_count": null,
   "id": "c6509036",
   "metadata": {},
   "outputs": [],
   "source": [
    "# Grid approximation\n",
    "n = 6\n",
    "x = np.linspace(0, 1, n)\n",
    "prior = stats.uniform.pdf(x)\n",
    "# Using Bernoulli distribution - 1 disease and 1 healthy observations\n",
    "likelihood = stats.bernoulli.pmf(1, p = x) ** 1 * stats.bernoulli.pmf(0, p = x) ** 2\n",
    "unnorm_posterior = likelihood * prior\n",
    "posterior = unnorm_posterior / np.sum(unnorm_posterior)\n",
    "\n",
    "\n",
    "# Plotting the posterior\n",
    "plt.figure(figsize=(10, 6))\n",
    "plt.plot(x, posterior, 'b-+', linewidth=1, markersize=8)\n",
    "plt.fill_between(x, posterior, alpha=0.3)\n",
    "\n",
    "plt.xlabel('Parameter value')\n",
    "plt.ylabel('Posterior Probability')\n",
    "plt.title(f'Posterior Distribution (Grid Approximation with {n} points)')\n",
    "plt.legend()\n",
    "plt.grid(True, alpha=0.3)\n",
    "plt.show()"
   ]
  },
  {
   "cell_type": "markdown",
   "id": "24d67c82",
   "metadata": {},
   "source": [
    "## 3. Continuous model's posteriors with PyMC\n",
    "\n",
    "$$\\begin{align} \\text{disease} &\\sim \\text{Bernoulli}(\\text{probDisease})\n",
    "\\\\\\\n",
    "\\text{probDisease} &\\sim \\text{Uniform}(0,1) \\end{align}$$\n",
    "\n",
    "Below we have the PyMC implementation of the Bayesian model above. Note that this model is observed for 1 healthy (disease) and 1 sick (no disease) patient (see `disease = ... observed=[0,1])`).\n",
    "\n",
    "**Task**: Observe this model for  2 sick (disease) and 7 healthy (no disease) people and see how the posterior changes. Compare the result with grid approximation.\n",
    "\n",
    "> Hint: you need to add another `1` and 6 more `0`s to the list in `... observed=[0,1])`"
   ]
  },
  {
   "cell_type": "code",
   "execution_count": null,
   "id": "2b4f0ceb",
   "metadata": {},
   "outputs": [],
   "source": [
    "with pm.Model() as model2:\n",
    "  probDisease = pm.Uniform('probDisease', lower=0, upper=1)\n",
    "  disease = pm.Bernoulli('disease', p = probDisease, observed = [0,1])\n",
    "  trace2 = pm.sample()\n",
    "# Summary table of the posterior\n",
    "pm.stats.summary(trace2, kind=\"stats\", var_names=[\"probDisease\"]).round(2)\n",
    "# Density plot of the posterior\n",
    "az.plot_posterior(trace2, var_names=[\"probDisease\"], hdi_prob=0.95)"
   ]
  },
  {
   "cell_type": "markdown",
   "id": "fb92ac95",
   "metadata": {},
   "source": [
    "## Extra: Estimating both P(Disease) and P(Blood Test | Disease) with PyMC"
   ]
  },
  {
   "cell_type": "code",
   "execution_count": null,
   "id": "c7784b7b",
   "metadata": {},
   "outputs": [],
   "source": []
  },
  {
   "cell_type": "markdown",
   "id": "0b468053",
   "metadata": {},
   "source": [
    "\n",
    "$$\\begin{align}\n",
    "\\text{disease} &\\sim \\text{Bernoulli}(\\text{probDisease}) \\\\\n",
    "\\text{bloodTest} &\\sim \\text{Bernoulli}(\\text{probTestGivenDis}_{\\text{disease}})\n",
    "\\\\\n",
    "\\text{probTestGivenDis}_i &\\sim \\text{Uniform}(0,1) \\quad \\text{for} \\ i=0,1 \n",
    "\\\\\n",
    "\\text{probDisease} &\\sim \\text{Uniform}(0,1)\n",
    "\\end{align}$$\n",
    "\n",
    "We can use the model above to estimate both probability of disease and conditional probability of test result given disease from data. \n",
    "\n",
    "The code below creates a pandas dataframe of 3 patients. First patient has no disease and positive blood test, second patient has disease and positive blood test.\n",
    "\n",
    "PyMC model estimates the disease and test result probabilities from this data.\n",
    "\n",
    "**Task**: Expand this dataset with 6 more hypothetical patients, and see how the results change."
   ]
  },
  {
   "cell_type": "code",
   "execution_count": null,
   "id": "b0b5b3df",
   "metadata": {},
   "outputs": [],
   "source": [
    "df = pd.DataFrame({\n",
    "    'disease': [0,1,0], \n",
    "    'bloodTest': [1,1,0]})\n",
    "df"
   ]
  },
  {
   "cell_type": "code",
   "execution_count": null,
   "id": "e4a0e09f",
   "metadata": {},
   "outputs": [],
   "source": [
    "with pm.Model() as model3:\n",
    "  # Priors\n",
    "  probDisease = pm.Uniform('probDisease', lower=0, upper=1)\n",
    "  probTestGivenDisease = pm.Uniform('probTestGivenDisease', lower=0, upper=1, shape=2)\n",
    "  disease = pm.Bernoulli('disease', p = probDisease, observed = df.disease)\n",
    "  positiveProb = pm.math.switch(disease, probTestGivenDisease[0], probTestGivenDisease[1])\n",
    "  bloodTest = pm.Bernoulli('bloodTest', p = positiveProb, observed  = df.bloodTest)\n",
    "  trace4 = pm.sample()\n",
    "pm.stats.summary(trace4, kind=\"stats\", var_names=[\"probDisease\", \"probTestGivenDisease\"]).round(2)"
   ]
  }
 ],
 "metadata": {
  "kernelspec": {
   "display_name": "Python 3 (ipykernel)",
   "language": "python",
   "name": "python3"
  },
  "language_info": {
   "codemirror_mode": {
    "name": "ipython",
    "version": 3
   },
   "file_extension": ".py",
   "mimetype": "text/x-python",
   "name": "python",
   "nbconvert_exporter": "python",
   "pygments_lexer": "ipython3",
   "version": "3.11.5"
  }
 },
 "nbformat": 4,
 "nbformat_minor": 5
}
