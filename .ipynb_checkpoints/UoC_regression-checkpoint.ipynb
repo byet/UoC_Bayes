{
 "cells": [
  {
   "cell_type": "code",
   "execution_count": null,
   "metadata": {},
   "outputs": [],
   "source": [
    "import pandas as pd\n",
    "import pymc as pm\n",
    "import arviz as az\n",
    "import numpy as np\n",
    "import matplotlib.pyplot as plt"
   ]
  },
  {
   "cell_type": "markdown",
   "metadata": {},
   "source": [
    "# Regression"
   ]
  },
  {
   "cell_type": "markdown",
   "metadata": {},
   "source": [
    "## The dataset\n",
    "\n",
    "We use the `Howell_ad` dataset."
   ]
  },
  {
   "cell_type": "code",
   "execution_count": null,
   "metadata": {},
   "outputs": [],
   "source": [
    "df = pd.read_csv(\"Howell_ad.csv\")"
   ]
  },
  {
   "cell_type": "code",
   "execution_count": null,
   "metadata": {},
   "outputs": [],
   "source": [
    "# Print first 5 rows from the dataframe\n",
    "df.head(5)"
   ]
  },
  {
   "cell_type": "code",
   "execution_count": null,
   "metadata": {},
   "outputs": [],
   "source": [
    "#  some summary statistics from this dataset.\n",
    "df.describe()"
   ]
  },
  {
   "cell_type": "markdown",
   "metadata": {},
   "source": [
    "# Linear Model\n",
    "\n",
    "Lets now build a linear model where weight depends on height. We will first build the model below:\n",
    "\n",
    "$$\\begin{align*} W_i &\\sim \\text{Normal}(\\mu_i, \\sigma) \\\\\n",
    "\\mu_i &= \\alpha + \\beta (H_i - \\bar H) \\\\\n",
    "\\alpha &\\sim \\text{Normal}(60,10) \n",
    "\\\\\n",
    "\\beta &\\sim \\text{Normal}(0,10)\n",
    "\\\\\n",
    "\\sigma &\\sim \\text{Uniform}(0,10) \\end{align*} $$\n",
    "\n",
    "\n"
   ]
  },
  {
   "cell_type": "code",
   "execution_count": null,
   "metadata": {},
   "outputs": [],
   "source": [
    "with pm.Model() as reg1:\n",
    "    height = pm.Data('height', df.height - df.height.mean())\n",
    "    alpha_v = pm.Normal('alpha', mu = 60, sigma = 10)\n",
    "    beta_v = pm.Normal('beta', mu = 0, sigma = 10)\n",
    "    sigma_v = pm.Uniform('sigma', lower = 0, upper = 10)\n",
    "    mu = pm.Deterministic('mu', alpha_v + beta_v* height)\n",
    "    w = pm.Normal('W', mu = mu,  sigma = sigma_v, observed = df.weight)"
   ]
  },
  {
   "cell_type": "markdown",
   "metadata": {},
   "source": [
    "### Priors\n",
    "\n",
    "In order to assess whether these priors are reasonable, lets sample from alpha and beta priors and draw some regression lines.\n",
    "\n",
    "We generate samples from normal distribution using the `numpy.random` module.[Further information.](https://numpy.org/doc/stable/reference/random/generated/numpy.random.normal.html).\n"
   ]
  },
  {
   "cell_type": "code",
   "execution_count": null,
   "metadata": {},
   "outputs": [],
   "source": [
    "# Generate 10 samples for alpha and beta priors\n",
    "N = 10\n",
    "alpha_v = np.random.normal(loc=60, scale=10, size=N)\n",
    "beta_v = np.random.normal(loc=0, scale=10, size=N)\n",
    "\n",
    "# Assuma Hbar is 150 and generate height values between 130 and 170\n",
    "Hbar = 150\n",
    "Hseq = np.linspace(130, 170, 30)\n",
    "\n",
    "# Draw regression lines based on the prior samples\n",
    "fig, ax = plt.subplots()\n",
    "for i in range(N):\n",
    "    ax.plot(Hseq, alpha_v[i] + beta_v[i]*(Hseq - Hbar), \"k\")\n",
    "    ax.set_xlim(130, 170)\n",
    "    ax.set_ylim(10, 100)\n",
    "    ax.set_xlabel(\"height (cm)\")\n",
    "    ax.set_ylabel(\"weight (km)\")\n",
    "    "
   ]
  },
  {
   "cell_type": "markdown",
   "metadata": {},
   "source": [
    "These priors do not look reasonable as we know that weight does not decrease as height increase. We can reflect that by using a $\\beta$ parameter that does not have negative values. Below we use a LogNormal prior for beta, lets see the lines based on that prior.\n",
    "\n",
    "$$\\begin{align*} W_i &\\sim \\text{Normal}(\\mu_i, \\sigma) \\\\\n",
    "\\mu_i &= \\alpha + \\beta (H_i - \\bar H) \\\\\n",
    "\\alpha &\\sim \\text{Normal}(60,10) \\\\\n",
    "\\color{darkred}{\\beta \\ } &\\color{darkred}{\\sim \\text{Normal}(1,1.5)} \\\\\n",
    "\\sigma &\\sim \\text{Uniform}(0,10) \\end{align*} $$"
   ]
  },
  {
   "cell_type": "code",
   "execution_count": null,
   "metadata": {},
   "outputs": [],
   "source": [
    "fig, ax = plt.subplots()\n",
    "N = 10\n",
    "alpha_v = np.random.normal(loc=60, scale=10, size=N)\n",
    "beta_v = np.random.normal(loc=1, scale=1.5, size=N)\n",
    "Hbar = 150\n",
    "Hseq = np.linspace(130, 170, 30)\n",
    "for i in range(N):\n",
    "    ax.plot(Hseq, alpha_v[i] + beta_v[i]*(Hseq - Hbar), \"k\")\n",
    "    ax.set_xlim(130, 170)\n",
    "    ax.set_ylim(10, 100)\n",
    "    ax.set_xlabel(\"height (cm)\")\n",
    "    ax.set_ylabel(\"weight (kg)\")\n",
    "    "
   ]
  },
  {
   "cell_type": "markdown",
   "metadata": {},
   "source": [
    "## Posteriors \n",
    "\n",
    "$$\\begin{align*} W_i &\\sim \\text{Normal}(\\mu_i, \\sigma) \\\\\n",
    "\\mu_i &= \\alpha + \\beta (H_i - \\bar H) \\\\\n",
    "\\alpha &\\sim \\text{Normal}(60,10) \\\\\n",
    "{\\beta \\ } &{\\sim \\text{Normal}(1,1.5)} \\\\\n",
    "\\sigma &\\sim \\text{Uniform}(0,10) \\end{align*} $$\n",
    "\n",
    "We will fit this model to our data.\n",
    "\n",
    "**Now define the priors for the pymc model below according to the model definition**\n",
    "\n",
    "The code block below computes the posteriors and prints their summary after you define them.\n"
   ]
  },
  {
   "cell_type": "code",
   "execution_count": null,
   "metadata": {},
   "outputs": [],
   "source": [
    "with pm.Model() as reg2:\n",
    "    height = pm.Data('height', df.height - df.height.mean(), dims=\"people\", mutable=True)\n",
    "    alpha = # Define alpha prior\n",
    "    beta = # Define beta prior\n",
    "    sigma = # Define sigma prior\n",
    "    mu = pm.Deterministic('mu', alpha + beta*(height))\n",
    "    w = pm.Normal('W', mu = mu,  sigma = sigma, observed = df.weight, dims=\"people\")\n",
    "    trace_reg2 = pm.sample()\n",
    "    \n",
    "pm.stats.summary(trace_reg2, var_names=['alpha', 'beta', 'sigma'], kind=\"stats\").round(2)"
   ]
  },
  {
   "cell_type": "markdown",
   "metadata": {},
   "source": [
    "## Posterior Predictive Distribution"
   ]
  },
  {
   "cell_type": "markdown",
   "metadata": {},
   "source": [
    "Finally, we will generate posterior predictions of $\\mu$ and $W$ for all heights between 130cm and 179cm with our model. "
   ]
  },
  {
   "cell_type": "code",
   "execution_count": null,
   "metadata": {},
   "outputs": [],
   "source": [
    "# Synthethic height values for prediction\n",
    "height_seq = np.linspace(130, 179, 50)\n",
    "# Generate posterior predictive samples\n",
    "with reg2:\n",
    "    pm.set_data({\n",
    "        'height': height_seq - df.height.mean()\n",
    "    })\n",
    "    trace_reg2_pred = pm.sample_posterior_predictive(trace = trace_reg2, var_names=[\"mu\", \"W\"])"
   ]
  },
  {
   "cell_type": "code",
   "execution_count": null,
   "metadata": {},
   "outputs": [],
   "source": [
    "# Summary of posterior predictions (first 5 people)\n",
    "pm.stats.summary(trace_reg2_pred, var_names=\"mu\", kind=\"stats\").head(5)"
   ]
  },
  {
   "cell_type": "code",
   "execution_count": null,
   "metadata": {},
   "outputs": [],
   "source": [
    "fig, ax = plt.subplots()\n",
    "# 91% interval (HDI) of mu posterior\n",
    "az.plot_hdi(height_seq,  trace_reg2_pred.posterior_predictive.mu, ax=ax, hdi_prob=0.91)\n",
    "# 91% interval (HDI) of W predictions\n",
    "az.plot_hdi(height_seq,  trace_reg2_pred.posterior_predictive.W, ax=ax, hdi_prob=0.91)\n",
    "# Scatter plot of data\n",
    "ax.scatter(df.height, df.weight)\n",
    "\n",
    "# Mean of mu posterior (black line)\n",
    "mu_mean = trace_reg2_pred.posterior_predictive.mu.mean((\"chain\",\"draw\")) # mean of mu over posterior samples for every height input\n",
    "ax.plot(height_seq, mu_mean, \"k\")\n",
    "\n",
    "ax.set_xlabel(\"height\")\n",
    "ax.set_ylabel(\"weight\")\n"
   ]
  },
  {
   "cell_type": "code",
   "execution_count": null,
   "metadata": {},
   "outputs": [],
   "source": []
  }
 ],
 "metadata": {
  "kernelspec": {
   "display_name": "Python 3 (ipykernel)",
   "language": "python",
   "name": "python3"
  },
  "language_info": {
   "codemirror_mode": {
    "name": "ipython",
    "version": 3
   },
   "file_extension": ".py",
   "mimetype": "text/x-python",
   "name": "python",
   "nbconvert_exporter": "python",
   "pygments_lexer": "ipython3",
   "version": "3.11.5"
  }
 },
 "nbformat": 4,
 "nbformat_minor": 4
}
